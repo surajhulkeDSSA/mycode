{
 "cells": [
  {
   "cell_type": "markdown",
   "metadata": {},
   "source": [
    "## Imports"
   ]
  },
  {
   "cell_type": "code",
   "execution_count": 8,
   "metadata": {},
   "outputs": [],
   "source": [
    "from core.utils.read_config import initialize_config\n",
    "from src.main import InsightsPro"
   ]
  },
  {
   "cell_type": "markdown",
   "metadata": {},
   "source": [
    "## Input"
   ]
  },
  {
   "cell_type": "markdown",
   "metadata": {},
   "source": [
    "### Config path"
   ]
  },
  {
   "cell_type": "code",
   "execution_count": 2,
   "metadata": {},
   "outputs": [],
   "source": [
    "# Domain name\n",
    "domain_name = \"mcd\""
   ]
  },
  {
   "cell_type": "markdown",
   "metadata": {},
   "source": [
    "### Config Initialization"
   ]
  },
  {
   "cell_type": "code",
   "execution_count": 3,
   "metadata": {},
   "outputs": [
    {
     "name": "stdout",
     "output_type": "stream",
     "text": [
      "initialize_config took 0.2847 seconds\n"
     ]
    }
   ],
   "source": [
    "user_config, data_config, model_config, debug_config = initialize_config()"
   ]
  },
  {
   "cell_type": "markdown",
   "metadata": {},
   "source": [
    "### User Inputs"
   ]
  },
  {
   "cell_type": "code",
   "execution_count": 4,
   "metadata": {
    "metadata": {}
   },
   "outputs": [
    {
     "name": "stdout",
     "output_type": "stream",
     "text": [
      ">>> Initialising Insights Pro\n",
      ">>> Generic Initialisation.\n",
      ">>> Initialising storage service\n",
      ">>> Initialising Conversation Models\n"
     ]
    },
    {
     "name": "stdout",
     "output_type": "stream",
     "text": [
      ">>> Reading Business overview\n",
      ">>> validating configs\n",
      ">>> Initialising dataloader.\n",
      ">>> Initialising storage service\n",
      ">>> Initialising Conversation Models\n",
      ">>> Reading Business overview\n",
      ">>> validating configs\n",
      ">>> Loaading Datadictionary.\n",
      "_db_and_dictionary_loading took 0.3259 seconds\n",
      ">>> Validation Configuration\n",
      ">>> Initialising storage service\n",
      ">>> Initialising Conversation Models\n",
      ">>> Reading Business overview\n"
     ]
    },
    {
     "name": "stderr",
     "output_type": "stream",
     "text": [
      "ERROR:QueryInsights:Invalid api_type: {'text_to_query': 'aws_claude_3_5', 'text_to_query_reattempt': 'aws_claude_3_5', 'query_to_chart_type': 'aws_claude_3_5', 'query_to_chart_code': 'aws_claude_3_5', 'table_to_insight_questions': 'aws_claude_3_5', 'insight_questions_to_code': 'aws_claude_3_5', 'summarize_tables': 'aws_claude_3_5', 'summarize_insights': 'aws_claude_3_5', 'questions_to_insights': 'aws_claude_3_5'}\n",
      "ERROR:QueryInsights:Invalid engine: anthropic.claude-3-5-sonnet-20240620-v1:0\n"
     ]
    },
    {
     "name": "stdout",
     "output_type": "stream",
     "text": [
      ">>> validating configs\n",
      "_config_validation_calling_and_response_json_initialization took 0.0014 seconds\n"
     ]
    }
   ],
   "source": [
    "insightspro = InsightsPro(user_config=user_config,\n",
    "    data_config=data_config,\n",
    "    model_config=model_config,\n",
    "    debug_config=debug_config)"
   ]
  },
  {
   "cell_type": "markdown",
   "metadata": {},
   "source": [
    "## Track1"
   ]
  },
  {
   "cell_type": "code",
   "execution_count": 5,
   "metadata": {},
   "outputs": [],
   "source": [
    "# question = \"What are the top 10 stores in the last 6 months ?\"\n",
    "#What was the sales of store 5367 in the last 1 year?\n",
    "#question = \"What are the top 10 items in the store 84000006?\"\n",
    "#What is the distribution of price change in my store 84000006 in current round?\n",
    "#\"what is the WAP impact for store 84000006 after increasing the new price for item 5 by 10 cents in instore channel in current round?\"\n",
    "#Why is there no price change for low-sensitive items in store 84000100 for each channel in current round?\n",
    "question = \"What are the top 10 stores with highest transactions in the last month?\"\n",
    "additional_context = None\n",
    "language = \"english\""
   ]
  },
  {
   "cell_type": "code",
   "execution_count": 6,
   "metadata": {
    "metadata": {}
   },
   "outputs": [
    {
     "name": "stdout",
     "output_type": "stream",
     "text": [
      ">>> Initialising storage service\n",
      ">>> Initialising Conversation Models\n",
      ">>> Reading Business overview\n"
     ]
    },
    {
     "name": "stdout",
     "output_type": "stream",
     "text": [
      ">>> validating configs\n",
      "Experiment folder formed : results/experiments/Sundaram_WITH_test_1/c398300174f7499c89436cb14d7057e7\n",
      "_folder_creation_for_each_question took 0.1465 seconds\n",
      ">>> Initialising storage service\n",
      ">>> Initialising Conversation Models\n",
      ">>> Reading Business overview\n",
      ">>> validating configs\n",
      "_preprocess took 0.0000 seconds\n",
      ">>> Initialising storage service\n",
      ">>> Initialising Conversation Models\n",
      ">>> Reading Business overview\n",
      ">>> validating configs\n",
      "_followup took 0.0000 seconds\n",
      "Error while executing the query. relation \"qc_vector_table\" already exists\n",
      "\n",
      "Table Already Exists\n",
      "Data Inserted Successfully\n"
     ]
    },
    {
     "name": "stderr",
     "output_type": "stream",
     "text": [
      "2024-10-07 05:37:03,998 - QueryInsights - question_classifier - find_category - INFO - The question falls under the category :Historical\n",
      "INFO:QueryInsights:The question falls under the category :Historical\n",
      "2024-10-07 05:37:07,241 - QueryInsights - text_to_sqlquery - text_to_query - INFO - Question to the API: What are the top 10 stores with highest transactions in the last month?\n",
      "INFO:QueryInsights:Question to the API: What are the top 10 stores with highest transactions in the last month?\n",
      "2024-10-07 05:37:07,444 - QueryInsights - text_to_sqlquery - text_to_query - INFO - Question to be answered in english language\n",
      "INFO:QueryInsights:Question to be answered in english language\n",
      "2024-10-07 05:37:07,646 - QueryInsights - text_to_sqlquery - text_to_query - INFO - Additional Context to the API: None\n",
      "INFO:QueryInsights:Additional Context to the API: None\n",
      "2024-10-07 05:37:07,871 - QueryInsights - text_to_sqlquery - text_to_query - INFO - SQL generation started.\n",
      "INFO:QueryInsights:SQL generation started.\n",
      "2024-10-07 05:37:08,093 - QueryInsights - text_to_sqlquery - text_to_query - INFO - For SQL generation: existing_question check is False and its status in None.\n",
      "INFO:QueryInsights:For SQL generation: existing_question check is False and its status in None.\n",
      "2024-10-07 05:37:08,301 - QueryInsights - opensource_claude3_5_client - generate_prompt - INFO - Prompt generated successfully.\n",
      "INFO:QueryInsights:Prompt generated successfully.\n",
      "2024-10-07 05:37:08,631 - QueryInsights - text_to_query_generator - process_query - INFO - Calling the API for SQL generation.\n",
      "INFO:QueryInsights:Calling the API for SQL generation.\n",
      "2024-10-07 05:37:17,386 - QueryInsights - opensource_claude3_5_client - model_response - INFO - API Response error code : 200\n",
      "INFO:QueryInsights:API Response error code : 200\n",
      "2024-10-07 05:37:17,619 - QueryInsights - text_to_query_generator - _call_model_api - INFO - Track 1:-\n",
      " finish token - end_turn,\n",
      " token information - {'prompt_tokens': 2447, 'completion_tokens': 423, 'total_tokens': 2870}\n",
      "INFO:QueryInsights:Track 1:-\n",
      " finish token - end_turn,\n",
      " token information - {'prompt_tokens': 2447, 'completion_tokens': 423, 'total_tokens': 2870}\n"
     ]
    },
    {
     "name": "stdout",
     "output_type": "stream",
     "text": [
      "_call_model_api took 8.9873 seconds\n"
     ]
    },
    {
     "name": "stderr",
     "output_type": "stream",
     "text": [
      "2024-10-07 05:37:17,827 - QueryInsights - text_to_query_generator - process_query - INFO - Time taken to generate the SQL: 9.2 seconds.\n",
      "INFO:QueryInsights:Time taken to generate the SQL: 9.2 seconds.\n",
      "2024-10-07 05:37:18,055 - QueryInsights - text_to_query_generator - process_query - INFO - Executing the SQL to generate output.\n",
      "INFO:QueryInsights:Executing the SQL to generate output.\n",
      "2024-10-07 05:37:18,265 - QueryInsights - text_to_query_generator - _post_process_response - INFO - SQL and data dict extracted.\n",
      "INFO:QueryInsights:SQL and data dict extracted.\n",
      "2024-10-07 05:37:18,671 - QueryInsights - text_to_query_generator - _clean_sql - INFO - Number of SQL Queries present - 1\n",
      "INFO:QueryInsights:Number of SQL Queries present - 1\n",
      "2024-10-07 05:37:18,879 - QueryInsights - text_to_query_generator - _clean_sql - INFO - Single SQL query present. No ALTER/UPDATE/DROP/CREATE statements found.\n",
      "INFO:QueryInsights:Single SQL query present. No ALTER/UPDATE/DROP/CREATE statements found.\n",
      "2024-10-07 05:37:19,085 - QueryInsights - text_to_query_generator - _run_sql - INFO - Running SQL.\n",
      "INFO:QueryInsights:Running SQL.\n",
      "2024-10-07 05:41:36,023 - QueryInsights - text_to_query_generator - _run_sql - INFO - Closed Database Connection successfully.\n",
      "INFO:QueryInsights:Closed Database Connection successfully.\n",
      "2024-10-07 05:41:36,235 - QueryInsights - text_to_query_generator - _post_process_output - INFO - Results from SQL is extracted.\n",
      "INFO:QueryInsights:Results from SQL is extracted.\n"
     ]
    },
    {
     "name": "stdout",
     "output_type": "stream",
     "text": [
      "_run_sql took 258.1946 seconds\n"
     ]
    },
    {
     "name": "stderr",
     "output_type": "stream",
     "text": [
      "2024-10-07 05:41:36,462 - QueryInsights - text_to_query_generator - process_query - INFO - Time taken to execute the SQL: 258.41 seconds.\n",
      "INFO:QueryInsights:Time taken to execute the SQL: 258.41 seconds.\n",
      "2024-10-07 05:41:36,672 - QueryInsights - text_to_query_generator - process_query - INFO - Saving the output to predefined paths.\n",
      "INFO:QueryInsights:Saving the output to predefined paths.\n"
     ]
    },
    {
     "name": "stdout",
     "output_type": "stream",
     "text": [
      "_save_outputs took 0.2093 seconds\n"
     ]
    },
    {
     "name": "stderr",
     "output_type": "stream",
     "text": [
      "2024-10-07 05:41:37,079 - QueryInsights - text_to_query_generator - process_query - INFO - Time taken to save the output table: 0.41 seconds.\n",
      "INFO:QueryInsights:Time taken to save the output table: 0.41 seconds.\n",
      "2024-10-07 05:41:37,290 - QueryInsights - text_to_query_generator - process_query - INFO - Text to Query is completed.\n",
      "INFO:QueryInsights:Text to Query is completed.\n"
     ]
    },
    {
     "name": "stdout",
     "output_type": "stream",
     "text": [
      "process_query took 268.8714 seconds\n",
      "get_query_suggestion took 268.8738 seconds\n"
     ]
    },
    {
     "name": "stderr",
     "output_type": "stream",
     "text": [
      "2024-10-07 05:41:37,506 - QueryInsights - text_to_sqlquery - text_to_query - INFO - SQL generation completed.\n",
      "INFO:QueryInsights:SQL generation completed.\n",
      "2024-10-07 05:41:37,831 - QueryInsights - text_to_sqlquery - text_to_query - INFO - Time taken to run track 1: 272.56 seconds.\n",
      "INFO:QueryInsights:Time taken to run track 1: 272.56 seconds.\n"
     ]
    },
    {
     "name": "stdout",
     "output_type": "stream",
     "text": [
      "text_to_query took 272.7581 seconds (App to Method: 6.9251 seconds)\n"
     ]
    },
    {
     "data": {
      "text/plain": [
       "{'status': 'success',\n",
       " 'output': (\"WITH last_month_transactions AS (\\n    SELECT \\n        store_id,\\n        SUM(totalguestcount) AS total_transactions\\n    FROM \\n        us_uat_gc_parquet\\n    WHERE \\n        wk_end_thu_end_dt >= DATE_ADD('week', -4, (SELECT MAX(wk_end_thu_end_dt) FROM us_uat_gc_parquet))\\n        AND wk_end_thu_end_dt <= (SELECT MAX(wk_end_thu_end_dt) FROM us_uat_gc_parquet)\\n    GROUP BY \\n        store_id\\n)\\nSELECT \\n    store_id,\\n    total_transactions\\nFROM \\n    last_month_transactions\\nORDER BY \\n    total_transactions DESC\\nLIMIT 10\",\n",
       "     store_id  total_transactions\n",
       "  0      7603              107657\n",
       "  1     12751              106704\n",
       "  2     13318              105007\n",
       "  3      1102               96880\n",
       "  4      2453               95595\n",
       "  5      7604               93625\n",
       "  6      4464               91308\n",
       "  7      4336               89866\n",
       "  8      2057               88219\n",
       "  9     13429               88081,\n",
       "  [{'column_name': 'store_id',\n",
       "    'description': 'Store id, Unique store identifier in the Database. it contains integer type data',\n",
       "    'unit_of_measurement': 'us_uat_gc_parquet',\n",
       "    'id': 'Yes'},\n",
       "   {'column_name': 'total_transactions',\n",
       "    'description': 'Total number of transactions (guest count) for the store in the last month',\n",
       "    'unit_of_measurement': 'us_uat_gc_parquet',\n",
       "    'id': 'No'}])}"
      ]
     },
     "execution_count": 6,
     "metadata": {},
     "output_type": "execute_result"
    }
   ],
   "source": [
    "track1_output, response_json = insightspro.text_to_query(question, additional_context, language)\n",
    "track1_output"
   ]
  },
  {
   "cell_type": "markdown",
   "metadata": {},
   "source": [
    "## Track2"
   ]
  },
  {
   "cell_type": "code",
   "execution_count": 7,
   "metadata": {},
   "outputs": [
    {
     "name": "stderr",
     "output_type": "stream",
     "text": [
      "2024-10-07 05:41:38,142 - QueryInsights - query_to_chart - query_to_chart - INFO - Reading the data dictionary.\n",
      "INFO:QueryInsights:Reading the data dictionary.\n"
     ]
    },
    {
     "name": "stderr",
     "output_type": "stream",
     "text": [
      "2024-10-07 05:41:38,339 - QueryInsights - query_to_chart - query_to_chart - INFO - data dictionary is read - {'columns': [{'column_name': 'store_id', 'description': 'Store id, Unique store identifier in the Database. it contains integer type data', 'unit_of_measurement': 'us_uat_gc_parquet', 'id': 'Yes'}, {'column_name': 'total_transactions', 'description': 'Total number of transactions (guest count) for the store in the last month', 'unit_of_measurement': 'us_uat_gc_parquet', 'id': 'No'}]}\n",
      "INFO:QueryInsights:data dictionary is read - {'columns': [{'column_name': 'store_id', 'description': 'Store id, Unique store identifier in the Database. it contains integer type data', 'unit_of_measurement': 'us_uat_gc_parquet', 'id': 'Yes'}, {'column_name': 'total_transactions', 'description': 'Total number of transactions (guest count) for the store in the last month', 'unit_of_measurement': 'us_uat_gc_parquet', 'id': 'No'}]}\n",
      "2024-10-07 05:41:38,550 - QueryInsights - query_to_chart - query_to_chart - INFO - User query to chart generation started.\n",
      "INFO:QueryInsights:User query to chart generation started.\n",
      "2024-10-07 05:41:38,749 - QueryInsights - query_to_chart - query_to_chart - INFO - For Chart generation: existing_question check is False and its status in None\n",
      "INFO:QueryInsights:For Chart generation: existing_question check is False and its status in None\n",
      "2024-10-07 05:41:38,972 - QueryInsights - chart_generator - _get_chart_suggestion - INFO - Track 2a started.\n",
      "INFO:QueryInsights:Track 2a started.\n",
      "2024-10-07 05:41:39,185 - QueryInsights - opensource_claude3_5_client - generate_prompt - INFO - Prompt generated successfully.\n",
      "INFO:QueryInsights:Prompt generated successfully.\n",
      "2024-10-07 05:41:44,179 - QueryInsights - opensource_claude3_5_client - model_response - INFO - API Response error code : 200\n",
      "INFO:QueryInsights:API Response error code : 200\n"
     ]
    },
    {
     "name": "stdout",
     "output_type": "stream",
     "text": [
      "_charttype_apicall took 5.2429 seconds\n",
      "_post_processing Track2a took 0.2291 seconds\n"
     ]
    },
    {
     "name": "stderr",
     "output_type": "stream",
     "text": [
      "2024-10-07 05:41:44,657 - QueryInsights - chart_generator - _get_chart_suggestion - INFO - Time taken for Track 2a(chart type suggestion): 5.48 seconds.\n",
      "INFO:QueryInsights:Time taken for Track 2a(chart type suggestion): 5.48 seconds.\n",
      "2024-10-07 05:41:44,862 - QueryInsights - chart_generator - _get_chart_suggestion - INFO - Track 2a completed\n",
      "INFO:QueryInsights:Track 2a completed\n",
      "2024-10-07 05:41:45,063 - QueryInsights - chart_generator - _get_chart_suggestion - INFO - Track 2b started.\n",
      "INFO:QueryInsights:Track 2b started.\n",
      "2024-10-07 05:41:45,265 - QueryInsights - chart_generator - _get_chart_suggestion - INFO - Trying an iteration with the user question.\n",
      "INFO:QueryInsights:Trying an iteration with the user question.\n",
      "2024-10-07 05:41:45,495 - QueryInsights - opensource_claude3_5_client - generate_prompt - INFO - Prompt generated successfully.\n",
      "INFO:QueryInsights:Prompt generated successfully.\n",
      "2024-10-07 05:41:53,734 - QueryInsights - opensource_claude3_5_client - model_response - INFO - API Response error code : 200\n",
      "INFO:QueryInsights:API Response error code : 200\n"
     ]
    },
    {
     "name": "stdout",
     "output_type": "stream",
     "text": [
      "_chartcode_apicall took 8.4621 seconds\n",
      "_post_processing Track2b took 0.3744 seconds\n",
      "huggingface/tokenizers: The current process just got forked, after parallelism has already been used. Disabling parallelism to avoid deadlocks...\n",
      "To disable this warning, you can either:\n",
      "\t- Avoid using `tokenizers` before the fork if possible\n",
      "\t- Explicitly set the environment variable TOKENIZERS_PARALLELISM=(true | false)\n",
      "huggingface/tokenizers: The current process just got forked, after parallelism has already been used. Disabling parallelism to avoid deadlocks...\n",
      "To disable this warning, you can either:\n",
      "\t- Avoid using `tokenizers` before the fork if possible\n",
      "\t- Explicitly set the environment variable TOKENIZERS_PARALLELISM=(true | false)\n",
      "_run_chart_code took 5.6832 seconds\n",
      "_get_chart_object took 14.5276 seconds\n"
     ]
    },
    {
     "name": "stderr",
     "output_type": "stream",
     "text": [
      "2024-10-07 05:42:00,020 - QueryInsights - chart_generator - _get_chart_suggestion - INFO - Time taken for Track 2b(chart code generation): 14.75 seconds.\n",
      "INFO:QueryInsights:Time taken for Track 2b(chart code generation): 14.75 seconds.\n",
      "2024-10-07 05:42:00,232 - QueryInsights - chart_generator - _get_chart_suggestion - INFO - Track 2b completed.\n",
      "INFO:QueryInsights:Track 2b completed.\n"
     ]
    },
    {
     "name": "stdout",
     "output_type": "stream",
     "text": [
      "_get_chart_suggestion took 21.4938 seconds\n",
      "process_suggestion took 21.4959 seconds\n"
     ]
    },
    {
     "name": "stderr",
     "output_type": "stream",
     "text": [
      "2024-10-07 05:42:00,470 - QueryInsights - query_to_chart - query_to_chart - INFO - User query to chart generation completed.\n",
      "INFO:QueryInsights:User query to chart generation completed.\n",
      "2024-10-07 05:42:00,677 - QueryInsights - query_to_chart - _check_empty_charts - INFO - Checking if all the axis values are 0 in the chart.\n",
      "INFO:QueryInsights:Checking if all the axis values are 0 in the chart.\n",
      "2024-10-07 05:42:00,902 - QueryInsights - query_to_chart - _check_empty_charts - INFO - Axis-values other than 0 present in the chart object.\n",
      "INFO:QueryInsights:Axis-values other than 0 present in the chart object.\n",
      "2024-10-07 05:42:01,230 - QueryInsights - query_to_chart - query_to_chart - INFO - Time taken to run track 2: 23.19 seconds.\n",
      "INFO:QueryInsights:Time taken to run track 2: 23.19 seconds.\n"
     ]
    },
    {
     "name": "stdout",
     "output_type": "stream",
     "text": [
      "query_to_chart took 23.4030 seconds (App to Method: 279.6939 seconds)\n"
     ]
    },
    {
     "data": {
      "text/plain": [
       "{'status': 'success',\n",
       " 'output': ([Figure({\n",
       "       'data': [{'orientation': 'h',\n",
       "                 'type': 'bar',\n",
       "                 'x': [107657, 106704, 105007, 96880, 95595, 93625, 91308, 89866,\n",
       "                       88219, 88081],\n",
       "                 'y': [7603, 12751, 13318, 1102, 2453, 7604, 4464, 4336, 2057, 13429]}],\n",
       "       'layout': {'height': 600,\n",
       "                  'template': '...',\n",
       "                  'title': {'text': 'Top 10 Stores by Transaction Volume (Last Month)'},\n",
       "                  'width': 1000,\n",
       "                  'xaxis': {'title': {'text': 'Number of Transactions'}},\n",
       "                  'yaxis': {'autorange': 'reversed', 'title': {'text': 'Store ID'}}}\n",
       "   })],\n",
       "     store_id  total_transactions\n",
       "  0      7603              107657\n",
       "  1     12751              106704\n",
       "  2     13318              105007\n",
       "  3      1102               96880\n",
       "  4      2453               95595\n",
       "  5      7604               93625\n",
       "  6      4464               91308\n",
       "  7      4336               89866\n",
       "  8      2057               88219\n",
       "  9     13429               88081)}"
      ]
     },
     "execution_count": 7,
     "metadata": {},
     "output_type": "execute_result"
    }
   ],
   "source": [
    "track2_output, response_json = insightspro.query_to_chart(question, additional_context, language, insightspro.track1_ins.track1_output_table,insightspro.track1_ins.track1_output_table_dict)\n",
    "track2_output"
   ]
  },
  {
   "cell_type": "markdown",
   "metadata": {},
   "source": [
    "## Track3"
   ]
  },
  {
   "cell_type": "code",
   "execution_count": 8,
   "metadata": {},
   "outputs": [
    {
     "name": "stderr",
     "output_type": "stream",
     "text": [
      "2024-10-07 05:42:01,543 - QueryInsights - table_to_insights - table_insights - INFO - User query to insight generation started.\n",
      "INFO:QueryInsights:User query to insight generation started.\n"
     ]
    },
    {
     "name": "stderr",
     "output_type": "stream",
     "text": [
      "2024-10-07 05:42:01,763 - QueryInsights - table_to_insights - table_insights - INFO - For Insight generation: existing_question check is False and its status in ['success', 'success', None]\n",
      "INFO:QueryInsights:For Insight generation: existing_question check is False and its status in ['success', 'success', None]\n",
      "2024-10-07 05:42:02,521 - QueryInsights - insights_generator - get_insights - INFO - Track 3a started.\n",
      "INFO:QueryInsights:Track 3a started.\n",
      "2024-10-07 05:42:02,744 - QueryInsights - opensource_claude3_5_client - generate_prompt - INFO - Prompt generated successfully.\n",
      "INFO:QueryInsights:Prompt generated successfully.\n",
      "2024-10-07 05:42:05,822 - QueryInsights - opensource_claude3_5_client - model_response - INFO - API Response error code : 200\n",
      "INFO:QueryInsights:API Response error code : 200\n",
      "2024-10-07 05:42:06,062 - QueryInsights - insights_generator - _table_to_insight_questions - INFO - Track 3a:-\n",
      " finish token - end_turn,\n",
      " token information - {'prompt_tokens': 222, 'completion_tokens': 123, 'total_tokens': 345}\n",
      "INFO:QueryInsights:Track 3a:-\n",
      " finish token - end_turn,\n",
      " token information - {'prompt_tokens': 222, 'completion_tokens': 123, 'total_tokens': 345}\n"
     ]
    },
    {
     "name": "stdout",
     "output_type": "stream",
     "text": [
      "_table_to_insight_questions took 3.6719 seconds\n"
     ]
    },
    {
     "name": "stderr",
     "output_type": "stream",
     "text": [
      "2024-10-07 05:42:06,414 - QueryInsights - insights_generator - get_insights - INFO - Time taken for Track 3a: 3.67 seconds.\n",
      "INFO:QueryInsights:Time taken for Track 3a: 3.67 seconds.\n",
      "2024-10-07 05:42:06,637 - QueryInsights - insights_generator - get_insights - INFO - Track 3a completed.\n",
      "INFO:QueryInsights:Track 3a completed.\n",
      "2024-10-07 05:42:06,847 - QueryInsights - insights_generator - get_insights - INFO - Track 3b started.\n",
      "INFO:QueryInsights:Track 3b started.\n",
      "2024-10-07 05:42:07,073 - QueryInsights - opensource_claude3_5_client - generate_prompt - INFO - Prompt generated successfully.\n",
      "INFO:QueryInsights:Prompt generated successfully.\n",
      "2024-10-07 05:42:16,919 - QueryInsights - opensource_claude3_5_client - model_response - INFO - API Response error code : 200\n",
      "INFO:QueryInsights:API Response error code : 200\n",
      "2024-10-07 05:42:17,381 - QueryInsights - insights_generator - _insight_questions_to_code - INFO - Track 3b:-\n",
      " finish token - end_turn,\n",
      " token information - {'prompt_tokens': 467, 'completion_tokens': 524, 'total_tokens': 991}\n",
      "INFO:QueryInsights:Track 3b:-\n",
      " finish token - end_turn,\n",
      " token information - {'prompt_tokens': 467, 'completion_tokens': 524, 'total_tokens': 991}\n",
      "2024-10-07 05:42:17,608 - QueryInsights - insights_generator - _process_code_suggestion - INFO - Post processing of Track 3b started.\n",
      "INFO:QueryInsights:Post processing of Track 3b started.\n",
      "2024-10-07 05:42:17,816 - QueryInsights - post_processing - run_insights_code - INFO - Saving Track 3 code.\n",
      "INFO:QueryInsights:Saving Track 3 code.\n"
     ]
    },
    {
     "name": "stdout",
     "output_type": "stream",
     "text": [
      "huggingface/tokenizers: The current process just got forked, after parallelism has already been used. Disabling parallelism to avoid deadlocks...\n",
      "To disable this warning, you can either:\n",
      "\t- Avoid using `tokenizers` before the fork if possible\n",
      "\t- Explicitly set the environment variable TOKENIZERS_PARALLELISM=(true | false)\n"
     ]
    },
    {
     "name": "stderr",
     "output_type": "stream",
     "text": [
      "2024-10-07 05:42:21,388 - QueryInsights - post_processing - run_insights_code - INFO - Entire code for Track 3 ran successfully.\n",
      "INFO:QueryInsights:Entire code for Track 3 ran successfully.\n",
      "2024-10-07 05:42:21,596 - QueryInsights - insights_generator - _process_code_suggestion - INFO - Post processing of Track 3b completed.\n",
      "INFO:QueryInsights:Post processing of Track 3b completed.\n"
     ]
    },
    {
     "name": "stdout",
     "output_type": "stream",
     "text": [
      "_insight_questions_to_code took 15.0544 seconds\n"
     ]
    },
    {
     "name": "stderr",
     "output_type": "stream",
     "text": [
      "2024-10-07 05:42:22,126 - QueryInsights - insights_generator - get_insights - INFO - Time taken for Track 3b: 15.06 seconds.\n",
      "INFO:QueryInsights:Time taken for Track 3b: 15.06 seconds.\n",
      "2024-10-07 05:42:22,358 - QueryInsights - insights_generator - get_insights - INFO - Track 3b completed.\n",
      "INFO:QueryInsights:Track 3b completed.\n",
      "2024-10-07 05:42:22,579 - QueryInsights - insights_generator - get_insights - INFO - Track 3c started.\n",
      "INFO:QueryInsights:Track 3c started.\n",
      "2024-10-07 05:42:22,782 - QueryInsights - insights_generator - _get_summary - INFO - Track 3b result was not blank, hence it's output will be used to summarize.\n",
      "INFO:QueryInsights:Track 3b result was not blank, hence it's output will be used to summarize.\n",
      "2024-10-07 05:42:23,002 - QueryInsights - opensource_claude3_5_client - generate_prompt - INFO - Prompt generated successfully.\n",
      "INFO:QueryInsights:Prompt generated successfully.\n",
      "2024-10-07 05:42:26,791 - QueryInsights - opensource_claude3_5_client - model_response - INFO - API Response error code : 200\n",
      "INFO:QueryInsights:API Response error code : 200\n",
      "2024-10-07 05:42:27,050 - QueryInsights - insights_generator - _get_summary - INFO - Track 3c:-\n",
      " finish token - end_turn,\n",
      " token information - {'prompt_tokens': 2280, 'completion_tokens': 118, 'total_tokens': 2398}\n",
      "INFO:QueryInsights:Track 3c:-\n",
      " finish token - end_turn,\n",
      " token information - {'prompt_tokens': 2280, 'completion_tokens': 118, 'total_tokens': 2398}\n"
     ]
    },
    {
     "name": "stdout",
     "output_type": "stream",
     "text": [
      "_get_summary took 4.6667 seconds\n"
     ]
    },
    {
     "name": "stderr",
     "output_type": "stream",
     "text": [
      "2024-10-07 05:42:27,451 - QueryInsights - insights_generator - get_insights - INFO - Time taken for Track 3c: 4.67 seconds.\n",
      "INFO:QueryInsights:Time taken for Track 3c: 4.67 seconds.\n",
      "2024-10-07 05:42:27,661 - QueryInsights - insights_generator - get_insights - INFO - Track 3c completed.\n",
      "INFO:QueryInsights:Track 3c completed.\n",
      "2024-10-07 05:42:27,949 - QueryInsights - table_to_insights - table_insights - INFO - User query to insight generation completed.\n",
      "INFO:QueryInsights:User query to insight generation completed.\n"
     ]
    },
    {
     "name": "stdout",
     "output_type": "stream",
     "text": [
      "get_insights took 25.4256 seconds\n"
     ]
    },
    {
     "name": "stderr",
     "output_type": "stream",
     "text": [
      "2024-10-07 05:42:28,300 - QueryInsights - table_to_insights - table_insights - INFO - Time taken to run track 3: 26.84 seconds.\n",
      "INFO:QueryInsights:Time taken to run track 3: 26.84 seconds.\n"
     ]
    },
    {
     "name": "stdout",
     "output_type": "stream",
     "text": [
      "table_insights took 27.0555 seconds (App to Method: 303.1074 seconds)\n",
      "Timing information saved to results/experiments/Sundaram_WITH_test_1/c398300174f7499c89436cb14d7057e7\n"
     ]
    },
    {
     "data": {
      "text/plain": [
       "{'status': 'success',\n",
       " 'output': \"Here's a summary of the key insights for a business audience:\\n\\n• Store 7603 had the highest number of transactions (107,657), exceeding the average by 11,363 transactions.\\n\\n• There's a moderate positive correlation (0.42) between store ID and transaction volume, suggesting newer or larger stores may have higher transaction volumes.\\n\\n• The top 10 stores by transaction volume range from 88,081 to 107,657 transactions, with Store 7603 leading followed closely by Store 12751.\"}"
      ]
     },
     "execution_count": 8,
     "metadata": {},
     "output_type": "execute_result"
    }
   ],
   "source": [
    "track3_output, response_json = insightspro.table_insights(question, additional_context, language, insightspro.track1_ins.track1_output_table,insightspro.track1_ins.track1_output_table_dict)\n",
    "track3_output"
   ]
  },
  {
   "cell_type": "code",
   "execution_count": 9,
   "metadata": {},
   "outputs": [],
   "source": [
    "# import cProfile\n",
    "# import pstats\n",
    "\n",
    "# with cProfile.Profile() as profile:\n",
    "#     track1_output, response_json = insightspro.text_to_query(question, additional_context, language)\n",
    "#     track2_output, response_json = insightspro.query_to_chart(question, additional_context, language, insightspro.track1_ins.track1_output_table,insightspro.track1_ins.track1_output_table_dict)\n",
    "#     track3_output, response_json = insightspro.table_insights(question, additional_context, language, insightspro.track1_ins.track1_output_table,insightspro.track1_ins.track1_output_table_dict)\n",
    "\n",
    "# results=pstats.Stats(profile)\n",
    "# results.sort_stats(pstats.SortKey.TIME)\n",
    "# #results.print_stats()\n",
    "# results.dump_stats('results.prof')"
   ]
  },
  {
   "cell_type": "code",
   "execution_count": null,
   "metadata": {},
   "outputs": [],
   "source": []
  }
 ],
 "metadata": {
  "kernelspec": {
   "display_name": "insights_pro",
   "language": "python",
   "name": "python3"
  },
  "language_info": {
   "codemirror_mode": {
    "name": "ipython",
    "version": 3
   },
   "file_extension": ".py",
   "mimetype": "text/x-python",
   "name": "python",
   "nbconvert_exporter": "python",
   "pygments_lexer": "ipython3",
   "version": "3.8.19"
  }
 },
 "nbformat": 4,
 "nbformat_minor": 2
}
